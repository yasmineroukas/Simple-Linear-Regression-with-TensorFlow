{
  "nbformat": 4,
  "nbformat_minor": 0,
  "metadata": {
    "colab": {
      "provenance": [],
      "gpuType": "T4"
    },
    "kernelspec": {
      "name": "python3",
      "display_name": "Python 3"
    },
    "language_info": {
      "name": "python"
    },
    "accelerator": "GPU"
  },
  "cells": [
    {
      "cell_type": "code",
      "execution_count": null,
      "metadata": {
        "id": "YPFse9NBBmVG",
        "collapsed": true
      },
      "outputs": [],
      "source": [
        "import tensorflow as tf\n",
        "from tensorflow.keras import Sequential\n",
        "from tensorflow.keras.layers import Dense\n",
        "import numpy as np\n",
        "\n",
        "\n",
        "model = Sequential([Dense(units=1, input_shape=[1])])\n",
        "model.compile(\n",
        "    optimizer='sgd',\n",
        "    loss = 'mean_squared_error'\n",
        ")\n",
        "\n",
        "xs = np.array(\n",
        "    [-1.0,0.0,1.0,2.0,3.0,4.0],\n",
        "    dtype = float\n",
        ")\n",
        "ys = np.array(\n",
        "    [-3.0,-1.0,1.0,3.0,5.0,7.0],\n",
        "    dtype= float\n",
        ")\n",
        "model.fit(xs,ys,epochs=500)"
      ]
    }
  ]
}